{
 "cells": [
  {
   "cell_type": "markdown",
   "metadata": {},
   "source": [
    "# Matrices\n",
    "Una Matriz o arreglo bidimensional es una colección de datos del mismo tipo, referenciada con un solo nombre y que para acceder a cada uno de sus datos se necesita dos subíndices que indican la posición (la fila y la columna) donde se encuentra almacenado un dato, dentro de la colección.\n",
    "\n",
    "En este caso los datos están organizados en dos dimensiones (Filas y columnas) y por esta razón se requiere de dos subíndices para ubicar un dato en particular. Uno de los subíndices indicará la fila donde se encuentra el dato y el otro subíndice la columna\n",
    "\n",
    "\n",
    "![Intro matrices](./matrices1.png)"
   ]
  },
  {
   "cell_type": "markdown",
   "metadata": {},
   "source": [
    "En Python las matrices se puden ver con un vector de vectores... es decir que cada fila de la matriz es un arreglo unidimensional, por lo tanto una matriz 3x3 se prodria interpretar de la siguiente manera\n",
    "![Intro matrices](./matrices2.png)"
   ]
  },
  {
   "cell_type": "markdown",
   "metadata": {},
   "source": [
    "Por lo tanto hay dos forma de definir una matriz, la primera es definiendo cada uno de los elementos de la matriz\n",
    "ejemplo:\n",
    "```[python]\n",
    "m=[ [3.5,2.7,22],[5.4,10.2,0.5],[14.3,9.9,2,2]  ]\n",
    "```"
   ]
  },
  {
   "cell_type": "code",
   "execution_count": 1,
   "metadata": {},
   "outputs": [
    {
     "name": "stdout",
     "output_type": "stream",
     "text": [
      "[[3.5, 2.7, 22], [5.4, 10.2, 0.5], [14.3, 9.9, 2, 2]]\n",
      "[[11.9, 111, 22], [5.4, 10.2, 0.5], [14.3, 9.9, 2, 2]]\n"
     ]
    }
   ],
   "source": [
    "m=[ [3.5,2.7,22],[5.4,10.2,0.5],[14.3,9.9,2,2]  ]\n",
    "print (m)\n",
    "m[0][1]=111\n",
    "m[0][0]=m[2][1] + m[2][3]\n",
    "print (m)"
   ]
  },
  {
   "cell_type": "markdown",
   "metadata": {},
   "source": [
    "Otra forma de definir una matriz es mediante una funcion que reciba como parametros el numero de filas y numero de columnas y retorne la matriz\n",
    "```[python]\n",
    "m=crearMatriz(3,4)\n",
    "```"
   ]
  },
  {
   "cell_type": "code",
   "execution_count": 1,
   "metadata": {},
   "outputs": [],
   "source": [
    "def crearMatriz(nfilas,ncolumnas):\n",
    "    matriz=[]\n",
    "    i=0\n",
    "    while(i<nfilas):\n",
    "        fila=ncolumnas*[0]\n",
    "        matriz.append(fila)\n",
    "        i=i+1\n",
    "    return matriz"
   ]
  },
  {
   "cell_type": "code",
   "execution_count": 2,
   "metadata": {},
   "outputs": [
    {
     "name": "stdout",
     "output_type": "stream",
     "text": [
      "[[0, 0, 0, 0], [0, 0, 0, 0], [0, 0, 0, 0]]\n",
      "[[14, 111, 0, 0], [0, 0, 0, 0], [0, 10, 0, 4]]\n"
     ]
    }
   ],
   "source": [
    "m=crearMatriz(3,4)\n",
    "print (m)\n",
    "m[0][1]=111\n",
    "m[2][1]=10\n",
    "m[2][3]=4\n",
    "m[0][0]=m[2][1] + m[2][3]\n",
    "print (m)"
   ]
  },
  {
   "cell_type": "markdown",
   "metadata": {},
   "source": [
    "Si se desea ver la matriz organizada por filas y columanas es necesario crear una funcion\n",
    "que retorne una cadena de caracteres con la matriz organizada"
   ]
  },
  {
   "cell_type": "code",
   "execution_count": 6,
   "metadata": {},
   "outputs": [],
   "source": [
    "def matrizComoCadena(matriz):\n",
    "    nfilas=len(matriz)\n",
    "    ncolumnas=len(matriz[0])\n",
    "    cadena = ''\n",
    "    i=0\n",
    "    while(i<nfilas):\n",
    "        cadena = cadena + '['\n",
    "        k=0\n",
    "        while (k<ncolumnas):\n",
    "            cadena = cadena +'{:>5s}'.format(str(matriz[i][k]))\n",
    "            k=k+1\n",
    "        cadena = cadena + ']\\n'\n",
    "        i=i+1\n",
    "    return cadena"
   ]
  },
  {
   "cell_type": "code",
   "execution_count": 7,
   "metadata": {},
   "outputs": [
    {
     "name": "stdout",
     "output_type": "stream",
     "text": [
      "[    0    0    0    0]\n",
      "[    0    0    0    0]\n",
      "[    0    0    0    0]\n",
      "\n",
      "[   14  111    0    0]\n",
      "[    0    0    0    0]\n",
      "[    0   10    0    4]\n",
      "\n"
     ]
    }
   ],
   "source": [
    "m=crearMatriz(3,4)\n",
    "print(matrizComoCadena(m))\n",
    "m[0][1]=111\n",
    "m[2][1]=10\n",
    "m[2][3]=4\n",
    "m[0][0]=m[2][1] + m[2][3]\n",
    "print(matrizComoCadena(m))"
   ]
  },
  {
   "cell_type": "markdown",
   "metadata": {},
   "source": [
    "Para hacer pruebas es util generar matrices con numeros aleatorios y por lo tanto se puede crear una funcion que defina una matriz de cualquier tamaño llenandola de numeros aleatorios por ejemplo entre un rango dado\n",
    "\n",
    "```[python]\n",
    "from random import randint\n",
    "print(randint(10, 20))\n",
    "```"
   ]
  },
  {
   "cell_type": "code",
   "execution_count": 8,
   "metadata": {},
   "outputs": [],
   "source": [
    "# para poder usar el generador de aleatorios hay que importar la funcion \n",
    "# randint de la libreria random\n",
    "from random import randint\n",
    "# la funcion recibe cuatro datos como parametros\n",
    "# nfilas es el numero de filas a crear\n",
    "# ncolumnas es el numero de columnas a crear\n",
    "# desde y hasta representan el rango de numeros que se pueden generar\n",
    "def crearMatrizAleatoria(nfilas,ncolumnas,desde, hasta):\n",
    "    matriz=crearMatriz(nfilas,ncolumnas)\n",
    "    i=0\n",
    "    while(i<nfilas):\n",
    "        k=0\n",
    "        while (k<ncolumnas):\n",
    "            matriz[i][k]=randint(desde, hasta)\n",
    "            k=k+1\n",
    "        i=i+1\n",
    "    return matriz   "
   ]
  },
  {
   "cell_type": "code",
   "execution_count": 10,
   "metadata": {},
   "outputs": [
    {
     "name": "stdout",
     "output_type": "stream",
     "text": [
      "[    3    5   10    9    9]\n",
      "[    2    7    8   10    3]\n",
      "[    5    4    7    5    9]\n",
      "\n"
     ]
    }
   ],
   "source": [
    "m=crearMatrizAleatoria(3,5,0,10)\n",
    "print(matrizComoCadena(m))"
   ]
  },
  {
   "cell_type": "code",
   "execution_count": 12,
   "metadata": {},
   "outputs": [],
   "source": [
    "# sumar dos matrices y retornar la matriz suma\n",
    "# a y b son dos matrices del mismo tamaño\n",
    "def sumarMatrices(a,b):\n",
    "    nfilas=len(a)\n",
    "    ncolumnas=len(a[0])\n",
    "    rta=crearMatriz(nfilas,ncolumnas)\n",
    "    i=0\n",
    "    while(i<nfilas):\n",
    "        k=0\n",
    "        while(k<ncolumnas):\n",
    "            rta[i][k]=a[i][k] + b [i][k]\n",
    "            k=k+1\n",
    "        i=i+1\n",
    "    return rta   \n",
    "    "
   ]
  },
  {
   "cell_type": "code",
   "execution_count": 13,
   "metadata": {},
   "outputs": [
    {
     "name": "stdout",
     "output_type": "stream",
     "text": [
      "Primera matriz\n",
      "[    3   -1]\n",
      "[   -3    4]\n",
      "[    3    8]\n",
      "\n",
      "Segunda matriz\n",
      "[   61   35]\n",
      "[   26   29]\n",
      "[    4   50]\n",
      "\n",
      "Matriz resultante de la suma\n",
      "[   64   34]\n",
      "[   23   33]\n",
      "[    7   58]\n",
      "\n"
     ]
    }
   ],
   "source": [
    "x=crearMatrizAleatoria(3,2,-5,10)\n",
    "y=crearMatrizAleatoria(3,2,0,100)\n",
    "w=sumarMatrices(x,y)\n",
    "print(\"Primera matriz\")\n",
    "print(matrizComoCadena(x))\n",
    "print(\"Segunda matriz\")\n",
    "print(matrizComoCadena(y))\n",
    "print(\"Matriz resultante de la suma\")\n",
    "print(matrizComoCadena(w))\n"
   ]
  },
  {
   "cell_type": "markdown",
   "metadata": {},
   "source": [
    "De igual forma Para facilitar usar matrices, es util traer la información de un archivo de texto y almacenarla en una matriz en memoria... Este proceso se le conoce comunmente como entrada de datos (leer datos), que no siempre se hace desde archivos, sino que frecuentemente se hace desde el teclado pero es poco practico para volumenes de datos..."
   ]
  },
  {
   "cell_type": "code",
   "execution_count": 14,
   "metadata": {},
   "outputs": [],
   "source": [
    "def cargarMatriz(nombrearchivo):\n",
    "    archivo = open( nombrearchivo )\n",
    "    x = []\n",
    "    # linea corresponde a cada cadena de texto en el archivo...\n",
    "    # hasta encontrar un retorno... es decir una linea del archivo de texto\n",
    "    for linea in archivo.readlines():\n",
    "        #La funcion split() convierte una cadena en un vector de cadenas\n",
    "        # utilizando como separador los espacios... \n",
    "        y = [float(dato) for dato in linea.split()]\n",
    "        x.append( y )\n",
    "    archivo.close()\n",
    "    return x"
   ]
  },
  {
   "cell_type": "code",
   "execution_count": 16,
   "metadata": {},
   "outputs": [
    {
     "name": "stdout",
     "output_type": "stream",
     "text": [
      "[[5.3, 6.7, 2.5], [6.2, 7.4, 9.1]]\n",
      "[  5.3  6.7  2.5]\n",
      "[  6.2  7.4  9.1]\n",
      "\n"
     ]
    }
   ],
   "source": [
    "m=cargarMatriz(\"prueba.txt\")\n",
    "print(m)\n",
    "print(matrizComoCadena(m))"
   ]
  },
  {
   "cell_type": "code",
   "execution_count": 17,
   "metadata": {},
   "outputs": [],
   "source": [
    "def leerMatrizTeclado(nfilas,ncolumnas):\n",
    "    matriz=crearMatriz(nfilas,ncolumnas)\n",
    "    i=0\n",
    "    while(i<nfilas):\n",
    "        k=0\n",
    "        while (k<ncolumnas):\n",
    "            mensaje=\"dato[%d][%d]:  \"%(i,k)\n",
    "            # la funcion input() captura un dato por teclado\n",
    "            # imprimiendo un mensaje para que quien da el dato sepa de que se trata\n",
    "            matriz[i][k]= float(input(mensaje))\n",
    "            k=k+1\n",
    "        i=i+1\n",
    "    return matriz\n",
    "    "
   ]
  },
  {
   "cell_type": "code",
   "execution_count": 19,
   "metadata": {},
   "outputs": [
    {
     "name": "stdout",
     "output_type": "stream",
     "text": [
      "[  1.0  1.0]\n",
      "[  1.0  2.0]\n",
      "\n"
     ]
    }
   ],
   "source": [
    "m=leerMatrizTeclado(2,2)\n",
    "print(matrizComoCadena(m))"
   ]
  },
  {
   "cell_type": "code",
   "execution_count": null,
   "metadata": {},
   "outputs": [],
   "source": []
  }
 ],
 "metadata": {
  "kernelspec": {
   "display_name": "Python 3",
   "language": "python",
   "name": "python3"
  },
  "language_info": {
   "codemirror_mode": {
    "name": "ipython",
    "version": 3
   },
   "file_extension": ".py",
   "mimetype": "text/x-python",
   "name": "python",
   "nbconvert_exporter": "python",
   "pygments_lexer": "ipython3",
   "version": "3.8.5"
  }
 },
 "nbformat": 4,
 "nbformat_minor": 4
}
