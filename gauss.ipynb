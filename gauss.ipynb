{
 "cells": [
  {
   "cell_type": "markdown",
   "metadata": {},
   "source": [
    "# Matrices Inversas\n",
    "\n",
    "Ejemplo de matrices enteras inversas\n",
    "\n",
    "![matrices enteras inversas](./matricesinversas.png)"
   ]
  },
  {
   "cell_type": "code",
   "execution_count": 1,
   "metadata": {},
   "outputs": [],
   "source": [
    "def crearMatriz(nfilas,ncolumnas):\n",
    "    matriz=[]\n",
    "    i=0\n",
    "    while(i<nfilas):\n",
    "        fila=ncolumnas*[0]\n",
    "        matriz.append(fila)\n",
    "        i=i+1\n",
    "    return matriz\n",
    "\n",
    "def matrizComoCadena(matriz):\n",
    "    nfilas=len(matriz)\n",
    "    ncolumnas=len(matriz[0])\n",
    "    cadena = ''\n",
    "    i=0\n",
    "    while(i<nfilas):\n",
    "        cadena = cadena + '['\n",
    "        k=0\n",
    "        while (k<ncolumnas):\n",
    "            cadena = cadena +'{:>5s}'.format(str(matriz[i][k]))\n",
    "            k=k+1\n",
    "        cadena = cadena + ']\\n'\n",
    "        i=i+1\n",
    "    return cadena"
   ]
  },
  {
   "cell_type": "code",
   "execution_count": 5,
   "metadata": {},
   "outputs": [],
   "source": [
    "\n",
    "def generarIdentidad(n):\n",
    "    matriz=crearMatriz(n,n)\n",
    "    i=0\n",
    "    while(i<n):\n",
    "        matriz[i][i]=1\n",
    "        i=i+1\n",
    "    return matriz\n",
    "\n",
    "def multiMatrices(a,b):\n",
    "    nfa=len(a)\n",
    "    nca=len(a[0])\n",
    "    nfb=len(b)\n",
    "    ncb=len(b[0])\n",
    "    if nca==nfb:\n",
    "        c=crearMatriz(nfa,ncb)\n",
    "        i=0\n",
    "        while (i<nfa):\n",
    "            k=0\n",
    "            while(k<ncb):\n",
    "                sum=0\n",
    "                h=0\n",
    "                while (h<nca):\n",
    "                    sum=sum+ (a[i][h] * b[h][k])\n",
    "                    h=h+1\n",
    "                c[i][k]=sum\n",
    "                k=k+1\n",
    "            i=i+1\n",
    "    else:\n",
    "        c=[]\n",
    "    return c\n",
    "        \n"
   ]
  },
  {
   "cell_type": "code",
   "execution_count": 6,
   "metadata": {},
   "outputs": [
    {
     "name": "stdout",
     "output_type": "stream",
     "text": [
      "[    1   -2    4]\n",
      "[    1   -1    1]\n",
      "[    0    1   -2]\n",
      "\n",
      "[    1    0    2]\n",
      "[    2   -2    3]\n",
      "[    1   -1    1]\n",
      "\n",
      "[    1    0    0]\n",
      "[    0    1    0]\n",
      "[    0    0    1]\n",
      "\n"
     ]
    }
   ],
   "source": [
    "x=[[1,-2,4],[1,-1,1],[0,1,-2]]\n",
    "ix=[[1,0,2],[2,-2,3],[1,-1,1]]\n",
    "print(matrizComoCadena(x))\n",
    "print(matrizComoCadena(ix))\n",
    "y=multiMatrices(x,ix)\n",
    "print(matrizComoCadena(y))"
   ]
  },
  {
   "cell_type": "code",
   "execution_count": 7,
   "metadata": {},
   "outputs": [],
   "source": [
    "def multiplicarFilaPor(f,e,m):\n",
    "    nc=len(m[0])\n",
    "    i=0\n",
    "    while(i<nc):\n",
    "        m[f][i]=e*m[f][i]\n",
    "        i=i+1\n",
    "\n",
    "def cambiarFilas(fx,fy,m):\n",
    "    nc=len(m[0])\n",
    "    i=0\n",
    "    while(i<nc):\n",
    "        temp=m[fx][i]\n",
    "        m[fx][i]=m[fy][i]\n",
    "        m[fy][i]=temp\n",
    "        i=i+1\n",
    "        \n",
    "def mutiplicarysumar(fx,fy,e,m):\n",
    "    nc=len(m[0])\n",
    "    i=0\n",
    "    while(i<nc):\n",
    "        m[fx][i]=m[fx][i] + (e*m[fy][i])\n",
    "        i=i+1\n"
   ]
  },
  {
   "cell_type": "code",
   "execution_count": 8,
   "metadata": {},
   "outputs": [
    {
     "name": "stdout",
     "output_type": "stream",
     "text": [
      "[    1   -2    4]\n",
      "[    3   -3    3]\n",
      "[    0    1   -2]\n",
      "\n",
      "[    3   -3    3]\n",
      "[    1   -2    4]\n",
      "[    0    1   -2]\n",
      "\n",
      "[    3   -3    3]\n",
      "[    1   -2    4]\n",
      "[    2   -3    6]\n",
      "\n"
     ]
    }
   ],
   "source": [
    "multiplicarFilaPor(1,3,x)\n",
    "print(matrizComoCadena(x))\n",
    "cambiarFilas(0,1,x)\n",
    "print(matrizComoCadena(x))\n",
    "mutiplicarysumar(2,1,2,x)\n",
    "print(matrizComoCadena(x))\n"
   ]
  }
 ],
 "metadata": {
  "kernelspec": {
   "display_name": "Python 3",
   "language": "python",
   "name": "python3"
  },
  "language_info": {
   "codemirror_mode": {
    "name": "ipython",
    "version": 3
   },
   "file_extension": ".py",
   "mimetype": "text/x-python",
   "name": "python",
   "nbconvert_exporter": "python",
   "pygments_lexer": "ipython3",
   "version": "3.8.5"
  }
 },
 "nbformat": 4,
 "nbformat_minor": 4
}
