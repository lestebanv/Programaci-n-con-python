{
 "cells": [
  {
   "cell_type": "markdown",
   "metadata": {},
   "source": [
    "# Arreglos Unidimensionales o Vectores\n",
    "\n",
    "Un Arreglo es una coleccion de datos del mismo tipo almacenada en memoria bajo un mismo nombre, y para poder acceder a los elementos de la coleccion se hace uso de subindices\n",
    "\n",
    "![Intro vectores](./vectores.png)\n"
   ]
  },
  {
   "cell_type": "markdown",
   "metadata": {},
   "source": [
    "En Python hay varias formas para definir una variable de tipo arrego unidimensional o vector\n",
    "\n",
    "Tambien Python define algunas funciones que permiten realizar algunas tareas con los vectores (no todo lenguaje estructurado las tienen), como por ejemplo:\n",
    "\n",
    "Agregar elementos al final ``` vector.append(valoragregar) ```\n",
    "\n",
    "Eliminar una casilla del vector espeficando el subindice correspondiente a dicha casilla  ```del (vector[posicion])```\n",
    "\n",
    "Cantidad de elementos que tiene un vector ```len(vector[posicion])\n"
   ]
  },
  {
   "cell_type": "code",
   "execution_count": 1,
   "metadata": {},
   "outputs": [
    {
     "name": "stdout",
     "output_type": "stream",
     "text": [
      "[5, 4, 70, 5, -6, 2, 8, -3]\n",
      "[10, 4, 70, 5, -6, 2, 8, -3]\n",
      "despues de agregar 40 al vector quedo:\n",
      "[10, 4, 70, 5, -6, 2, 8, -3, 40]\n",
      "despues de borrar la casilla cero el vector quedo:\n",
      "[4, 70, 5, -6, 2, 8, -3, 40]\n",
      "\n",
      "Asignación entre vectores\n",
      "[4, 70, 5, -6, 2, 8, -3, 40]\n",
      "vector a\n",
      "[100, 1000, 5, -6, 2, 8, -3, 40]\n",
      "vector b\n",
      "[100, 1000, 5, -6, 2, 8, -3, 40]\n"
     ]
    }
   ],
   "source": [
    "# principales formas de manejar un vector\n",
    "# definir un vector haciendo explícitos cada uno de los elementos\n",
    "a=[5, 4, 70, 5, -6, 2, 8, -3]\n",
    "b=[1,5,6]\n",
    "print (a)\n",
    "# Modificar una casilla del vector mediante una asignación\n",
    "a[0]   =  10\n",
    "print (a)\n",
    "# agregar un dato al final de un vector\n",
    "a.append(40)\n",
    "print(\"despues de agregar 40 al vector quedo:\")\n",
    "print (a)\n",
    "# borrar una casilla de un vector\n",
    "del (a[0])\n",
    "print(\"despues de borrar la casilla cero el vector quedo:\")\n",
    "print (a)\n",
    "\n",
    "print(\"\")\n",
    "print(\"Asignación entre vectores\")\n",
    "b = a;\n",
    "print (b)\n",
    "a[0]=100\n",
    "b[1]=1000\n",
    "print (\"vector a\")\n",
    "print (a)\n",
    "print (\"vector b\")\n",
    "print (b)\n"
   ]
  },
  {
   "cell_type": "markdown",
   "metadata": {},
   "source": [
    "Otra forma de definir un vector inicializando sus elementos en un valor igual para todos"
   ]
  },
  {
   "cell_type": "code",
   "execution_count": 2,
   "metadata": {},
   "outputs": [
    {
     "name": "stdout",
     "output_type": "stream",
     "text": [
      "[1, 1, 1, 1, 1, 1, 1, 1, 1, 1, 1, 1, 1, 1, 1, 1, 1, 1, 1, 1]\n"
     ]
    }
   ],
   "source": [
    "# crea un vector de 20 casillas y en cada casilla asigna un 1\n",
    "b=20*[1]\n",
    "print (b)"
   ]
  },
  {
   "cell_type": "markdown",
   "metadata": {},
   "source": [
    "Funciones que reciben arreglos como paramentros"
   ]
  },
  {
   "cell_type": "code",
   "execution_count": 3,
   "metadata": {},
   "outputs": [],
   "source": [
    "def sumar(x):\n",
    "    n=len(x)\n",
    "    sum=0\n",
    "    i=0\n",
    "    while(i<n):\n",
    "        sum=sum+x[i]\n",
    "        i=i+1\n",
    "    return sum\n",
    "        "
   ]
  },
  {
   "cell_type": "code",
   "execution_count": 4,
   "metadata": {},
   "outputs": [
    {
     "name": "stdout",
     "output_type": "stream",
     "text": [
      "[10, 12, 13, 4, 8]\n",
      "47\n"
     ]
    }
   ],
   "source": [
    "#codigo de prueba de la función que suma los elementos de un vector\n",
    "a=[10,12,13,4,8]\n",
    "print(a)\n",
    "print(sumar(a))"
   ]
  },
  {
   "cell_type": "markdown",
   "metadata": {},
   "source": [
    "Es util llenar un vector con numeros aleatorios para probar las funciones que se desarrollen... aqui una funcion que genera vectores de enteros aleatorios"
   ]
  },
  {
   "cell_type": "code",
   "execution_count": 5,
   "metadata": {},
   "outputs": [],
   "source": [
    "# para poder usar el generador de aleatorios hay que importar la funcion \n",
    "# randint de la libreria random\n",
    "from random import randint\n",
    "# la funcion recibe tres datos como parametros\n",
    "# ndatos es el numero de datos que contendra el vector a crear\n",
    "# desde y hasta representan el rango de numeros que se pueden generar\n",
    "def crearVectorAleatorio(ndatos,desde, hasta):\n",
    "    vector=ndatos*[0]\n",
    "    i=0\n",
    "    while(i<ndatos):    \n",
    "        vector[i]=randint(desde, hasta)\n",
    "        i=i+1\n",
    "    return vector"
   ]
  },
  {
   "cell_type": "code",
   "execution_count": 6,
   "metadata": {},
   "outputs": [
    {
     "name": "stdout",
     "output_type": "stream",
     "text": [
      "10\n",
      "[19, 161, 185, 144, 30, 121, 72, 94, 117, 6]\n"
     ]
    }
   ],
   "source": [
    "a=crearVectorAleatorio(10,0,200)\n",
    "print(len(a))\n",
    "print (a)"
   ]
  },
  {
   "cell_type": "markdown",
   "metadata": {},
   "source": [
    "Aunque no es recomendado para este curso, otra forma de llenar de datos a un vector es dar los valores del vector por teclado... Menos práctico  pues cada vez que quiera probar una funcion tendra que teclear cada uno de los datos del vector... imaginese un vector de 100 datos nada más"
   ]
  },
  {
   "cell_type": "code",
   "execution_count": 7,
   "metadata": {},
   "outputs": [],
   "source": [
    "def leerVectorTeclado(ndatos):\n",
    "    vector=ndatos*[0.0]\n",
    "    i=0\n",
    "    while(i<ndatos):\n",
    "            mensaje=\"dato[%d]:  \"%(i)\n",
    "            # la funcion input() captura un dato por teclado\n",
    "            # imprimiendo un mensaje para que quien da el dato sepa de que se trata\n",
    "            vector[i]= float(input(mensaje))\n",
    "            i=i+1\n",
    "    return vector"
   ]
  },
  {
   "cell_type": "code",
   "execution_count": null,
   "metadata": {},
   "outputs": [],
   "source": [
    "w=leerVectorTeclado(4)\n",
    "print (w)"
   ]
  },
  {
   "cell_type": "markdown",
   "metadata": {},
   "source": [
    "Una mejor alternativa para llenar un vector es traer los datos de un archivo de texto, pues en milesimas de segundo se pude cargar en la memoria de datos cualquier cantidad de datos en un vector"
   ]
  },
  {
   "cell_type": "code",
   "execution_count": null,
   "metadata": {},
   "outputs": [],
   "source": [
    "def leerVectordeArchivo(nombrearchivo):\n",
    "    archivo = open(nombrearchivo)\n",
    "    x = []\n",
    "    # linea corresponde a cada cadena de texto en el archivo...\n",
    "    # hasta encontrar un retorno... es decir una linea del archivo de texto\n",
    "    for linea in archivo.readlines():\n",
    "        y = float(linea)\n",
    "        x.append(y)\n",
    "    archivo.close()\n",
    "    return (x)"
   ]
  },
  {
   "cell_type": "code",
   "execution_count": null,
   "metadata": {},
   "outputs": [],
   "source": [
    "# se requiere un archivo de texto... en este caso \"datosprueba.txt\"\n",
    "# en este archivo se encontrará un numero real en cada linea\n",
    "# el archivo de texto debe estar en la misma carpeta donde esta el archivo .py\n",
    "w=leerVectordeArchivo(\"datosprueba.txt\")\n",
    "print(w)"
   ]
  },
  {
   "cell_type": "markdown",
   "metadata": {},
   "source": [
    "# Ejercicios con vectores"
   ]
  },
  {
   "cell_type": "code",
   "execution_count": null,
   "metadata": {},
   "outputs": [],
   "source": [
    "# hacer una funcion que genere los números felices menores que un número dado\n",
    "\n",
    "#funcion que toma cada dígito de un número lo eleva al cuadrado y retorna la sumatoria de estos cuadrados \n",
    "def sumaCuadrados(n):\n",
    "    s=0\n",
    "    while (n>0):\n",
    "        s=s+((n%10)**2)\n",
    "        n=n//10\n",
    "    return (s)\n",
    "# funcion que dado un numero entero como parámetro\n",
    "# retorna verdadero si el numero es feliz\n",
    "# retorna falso si el número no es feliz\n",
    "def feliz(n):\n",
    "    while (n>=10):\n",
    "        n=sumaCuadrados (n)\n",
    "    if (n==1):\n",
    "        rta=True\n",
    "    else:\n",
    "        rta=False\n",
    "    return (rta)\n",
    "\n",
    "# retorna un vector con los numeros felices menore que un número n dado como parámetro\n",
    "def felicesHasta(n):\n",
    "    a=0*[0]\n",
    "    i=0\n",
    "    while(i<=n):\n",
    "        es=feliz(i)\n",
    "        if (es==True):\n",
    "            a.append(i)\n",
    "        else:\n",
    "            pass\n",
    "        i=i+1\n",
    "    return a\n"
   ]
  },
  {
   "cell_type": "code",
   "execution_count": null,
   "metadata": {},
   "outputs": [],
   "source": [
    "w=felicesHasta(10)\n",
    "print (w)"
   ]
  },
  {
   "cell_type": "code",
   "execution_count": null,
   "metadata": {},
   "outputs": [],
   "source": [
    "#ordenar un vector por el metodo de burbuja modificando el vector que recibe como parámetro y por lo tanto no retorna nada\n",
    "def ordenar(v):\n",
    "    n=len(v)\n",
    "    pasada=1\n",
    "    while(pasada<n):\n",
    "        k=0\n",
    "        while(k<n-pasada):        \n",
    "            if ( v[k]>v[k+1] ):\n",
    "                temp=v[k]\n",
    "                v[k]=v[k+1]\n",
    "                v[k+1]=temp\n",
    "            k=k+1\n",
    "        pasada=pasada+1\n",
    "\n",
    "#ordenar un vector por el metodo de burbuja retornando un nuevo vector sin modificar el vector recibido como parámetro\n",
    "def ordenar2(x):\n",
    "    # copiar todos los elementos del vector x a un nuevo vector para no dañar el original recibido en el parámetro x\n",
    "    n=len(x)\n",
    "    #crear un nuevo vector con el mismo tamaño del parametro x\n",
    "    v=n*[0]\n",
    "    # recorrer el vector x y copiar cada elemento a v\n",
    "    i=0\n",
    "    while(i<n):\n",
    "        v[i]=x[i]\n",
    "        i=i+1\n",
    "    # ordenar el nuevo vector v por el metodo de burbuja y ese sera el vector que se retorna    \n",
    "    pasada=1\n",
    "    while(pasada<n):\n",
    "        k=0\n",
    "        while(k<n-pasada):        \n",
    "            if ( v[k]>v[k+1] ):\n",
    "                temp=v[k]\n",
    "                v[k]=v[k+1]\n",
    "                v[k+1]=temp\n",
    "            k=k+1\n",
    "        pasada=pasada+1\n",
    "    return (v)"
   ]
  },
  {
   "cell_type": "code",
   "execution_count": null,
   "metadata": {},
   "outputs": [],
   "source": [
    "x=crearVectorAleatorio(10,50,100)\n",
    "print(\"vector original x \")\n",
    "print(x)\n",
    "ordenar(x)\n",
    "print(\"vector ordenado modificando a x\")\n",
    "print(x)\n",
    "\n",
    "w=crearVectorAleatorio(15,50,100)\n",
    "wo= ordenar2(w)\n",
    "print(\"vector original no fue modificado \")\n",
    "print(w)\n",
    "print(\"vector ordenado retornado \")\n",
    "print(wo)\n"
   ]
  },
  {
   "cell_type": "code",
   "execution_count": null,
   "metadata": {},
   "outputs": [],
   "source": [
    "# Hacer las funciones para hacer operaciones entre conjuntos con vectores\n",
    "\n",
    "# retorna verdadero si un elemento esta dentro de un vector\n",
    "def pertenece(dato,vector):\n",
    "    n=len(vector)\n",
    "    p=False\n",
    "    k=0\n",
    "    while(k<n):\n",
    "        if (dato==vector[k]):\n",
    "            p= True\n",
    "        k=k+1\n",
    "    return p\n",
    "\n",
    "#retorna un vector nuevo con los elementos comunes de a y de b\n",
    "def interseccion(a,b):\n",
    "    n=len(a)\n",
    "    r=0*[]\n",
    "    i=0\n",
    "    while(i<n):\n",
    "        if (pertenece(a[i],b)):\n",
    "            r.append(a[i])\n",
    "        i=i+1\n",
    "    return r\n",
    "\n",
    "# Retorna un nuevo vector con los elementos de a y de b todos en uno solo\n",
    "def union(a,b):\n",
    "    n=len(a)\n",
    "    r=0*[]\n",
    "    i=0\n",
    "    while(i<n):\n",
    "        r.append(a[i])\n",
    "        i=i+1\n",
    "    m=len(b)\n",
    "    i=0\n",
    "    while(i<m):\n",
    "        r.append(b[i])\n",
    "        i=i+1\n",
    "    return r\n"
   ]
  },
  {
   "cell_type": "code",
   "execution_count": null,
   "metadata": {},
   "outputs": [],
   "source": [
    "# código de prueba de las funciones anteriores\n",
    "x=[1,4,1,7]\n",
    "y=[4,1,9,5]\n",
    "print(pertenece (4,x))\n",
    "print(pertenece (10,x))\n",
    "c=interseccion(x,y)\n",
    "d=interseccion(y,x)\n",
    "e=union(x,y)\n",
    "print(x)\n",
    "print(y)\n",
    "print(c)\n",
    "print(d)\n",
    "print(e)\n"
   ]
  },
  {
   "cell_type": "code",
   "execution_count": null,
   "metadata": {},
   "outputs": [],
   "source": [
    "# funcion que busca un dato en un vector y retorna otro vector con \n",
    "# todas las posiciones donde encontro el dato\n",
    "def buscar(dato,vector):\n",
    "    n=len(vector)\n",
    "    rta=[]\n",
    "    i=0\n",
    "    while(i<n):\n",
    "        if (vector[i]==dato):\n",
    "            rta.append(i)\n",
    "        i=i+1\n",
    "    return rta\n",
    "\n",
    "# funcion que determina si un vector esta ordenado ascendentemente\n",
    "def estaOrdenado(vector):\n",
    "    n=len(vector)\n",
    "    rta=True\n",
    "    k=0\n",
    "    while((k<n-1) and (rta==True)):\n",
    "        if ( vector[k]>vector[k+1] ):\n",
    "            rta=False\n",
    "        k=k+1\n",
    "    return (rta)\n"
   ]
  },
  {
   "cell_type": "code",
   "execution_count": null,
   "metadata": {},
   "outputs": [],
   "source": [
    "x=[9,2,5,9,6,8,9]\n",
    "w=[1,2,3]\n",
    "y=buscar(9,x)\n",
    "print(y)\n",
    "print(estaOrdenado(x))\n",
    "print(estaOrdenado(w))\n"
   ]
  },
  {
   "cell_type": "markdown",
   "metadata": {},
   "source": [
    "# Vectores Paralelos\n",
    "![vectores Paralelos](./vectoresparalelos.png)"
   ]
  },
  {
   "cell_type": "markdown",
   "metadata": {},
   "source": [
    "supongase que se tiene la siguiente Información de los estudiantes de un grupo de programación.\n",
    "Esta informacion esta organizada en cuatro vectores\n",
    "\n",
    "indice  Codigos     Nombres     Genero    Nota\n",
    "0          37          Pepito      M        3.5\n",
    "1          55         Juanito      M        4.2\n",
    "2          22            Jose      M        5.0\n",
    "3          72           Maria      F        3.7"
   ]
  },
  {
   "cell_type": "code",
   "execution_count": null,
   "metadata": {},
   "outputs": [],
   "source": [
    "def imprimirVectores(cod,nom,sex,defi):\n",
    "    n=len(cod)\n",
    "    cadena =  \"Codigos  Nombres        Genero  Nota\"\n",
    "    cadena = cadena + '\\n'\n",
    "    k=0\n",
    "    while(k<n):\n",
    "        cadena = cadena + '{:>5s}'.format(str(cod[k]))\n",
    "        cadena = cadena + '{:>16s}'.format(nom[k])\n",
    "        cadena = cadena + '{:>7s}'.format(str(sex[k]))\n",
    "        cadena = cadena + '{:>8s}'.format(str(defi[k]))\n",
    "        cadena = cadena + '\\n'\n",
    "        k=k+1\n",
    "    return (cadena)\n",
    "\n",
    "# busca el estudiante con mayor nota y retorna su nombre\n",
    "def mejorEstudiante(nom,defi):\n",
    "    n=len(defi)\n",
    "    mayor=defi[0]\n",
    "    pos=0\n",
    "    k=0\n",
    "    while(k<n):\n",
    "        if (defi[k]>mayor):\n",
    "            mayor=defi[k]\n",
    "            pos=k\n",
    "        k=k+1\n",
    "    return (nom[pos])\n",
    "\n",
    "# busca la nota mas alta del grupo\n",
    "# retorna un vector con todos los nombres de los estudiantes que tengan la nota mas alta\n",
    "def mejoresNotas(nom,defi):\n",
    "    n=len(defi)\n",
    "    mayor=defi[0]\n",
    "    k=0\n",
    "    while(k<n):\n",
    "        if (defi[k]>mayor):\n",
    "            mayor=defi[k]\n",
    "        k=k+1\n",
    "    rta=[]\n",
    "    k=1\n",
    "    while(k<n):\n",
    "        if (defi[k]==mayor):\n",
    "            rta.append(nom[k])\n",
    "        k=k+1\n",
    "    return rta\n",
    "\n",
    "# retorna el promdio de notas\n",
    "def promedio(definitivas):\n",
    "    ndefi=len(definitivas)\n",
    "    x=0\n",
    "    i=0\n",
    "    while(i<ndefi):\n",
    "        x=x+definitivas[i]\n",
    "        i=i+1\n",
    "    pro=x/ndefi\n",
    "    return (pro)\n",
    "\n",
    "# retorna el nombre de la mejor estudiante mujer\n",
    "def mejorMujer(nom,sexo,defi):\n",
    "    n=len(defi)\n",
    "    k=0\n",
    "    while sexo[k]!='F':\n",
    "        k=k+1\n",
    "    mayor=defi[k]\n",
    "    pos=k\n",
    "    i=pos\n",
    "    while(i<n):    \n",
    "        if (sexo[i]=='F'):\n",
    "            if (defi[i]>mayor):\n",
    "                mayor=defi[i]\n",
    "                pos=i\n",
    "        i=i+1\n",
    "    return nom[pos]\n"
   ]
  },
  {
   "cell_type": "code",
   "execution_count": null,
   "metadata": {},
   "outputs": [],
   "source": [
    "# código de prueba\n",
    "codigo=[37,55,22,72]\n",
    "nombre=[\"Pepita\",\"Juanito\",\"Jose\",\"Maria\"]\n",
    "sexo=['F','M','M','F']\n",
    "nota=[4.5,4.2,4.2,3.7]\n",
    "print(imprimirVectores(codigo,nombre,sexo,nota))\n",
    "mejore= mejorEstudiante(nombre,nota)\n",
    "print(\"Mejor estudiante: \" + mejore)\n",
    "x=mejoresNotas(nombre,nota)\n",
    "print(\"Mejores Notas: \" )\n",
    "print(x)\n",
    "print(\"Promedio de Notas: \")\n",
    "print(promedio(nota))\n",
    "print(\"Mejor estudiante Mujer: \" + mejorMujer(nombre,sexo,nota))\n"
   ]
  },
  {
   "cell_type": "code",
   "execution_count": null,
   "metadata": {},
   "outputs": [],
   "source": [
    "def cargarVectoresdesdeArchivo(nombrearchivo):\n",
    "    archivo = open( nombrearchivo )\n",
    "    cod=[]\n",
    "    nom=[]\n",
    "    sex=[]\n",
    "    nota=[]\n",
    "    # linea corresponde a cada cadena de texto en el archivo...\n",
    "    # hasta encontrar un retorno... es decir una linea del archivo de texto\n",
    "    k=0\n",
    "    for linea in archivo.readlines():\n",
    "        #La funcion split() convierte una cadena en un vector de cadenas\n",
    "        # utilizando como separador los espacios o el punto y coma dado como argumento... \n",
    "        y = linea.split(';')\n",
    "        cod.append(int(y[0].strip()))\n",
    "        nom.append(y[1].strip())\n",
    "        sex.append((y[2].strip())[0])\n",
    "        nota.append(float(y[3].strip()))\n",
    "    archivo.close()\n",
    "    return (cod,nom,sex,nota)"
   ]
  },
  {
   "cell_type": "code",
   "execution_count": null,
   "metadata": {},
   "outputs": [],
   "source": [
    "# codigo de prueba cargando los datos de un archivo\n",
    "(codigo,nombre,sexo,nota)=cargarVectoresdesdeArchivo(\"datosvectoresparalelos.txt\")\n",
    "print(imprimirVectores(codigo,nombre,sexo,nota))"
   ]
  },
  {
   "cell_type": "code",
   "execution_count": null,
   "metadata": {},
   "outputs": [],
   "source": []
  }
 ],
 "metadata": {
  "kernelspec": {
   "display_name": "Python 3",
   "language": "python",
   "name": "python3"
  },
  "language_info": {
   "codemirror_mode": {
    "name": "ipython",
    "version": 3
   },
   "file_extension": ".py",
   "mimetype": "text/x-python",
   "name": "python",
   "nbconvert_exporter": "python",
   "pygments_lexer": "ipython3",
   "version": "3.8.5"
  }
 },
 "nbformat": 4,
 "nbformat_minor": 4
}
