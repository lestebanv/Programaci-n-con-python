{
 "cells": [
  {
   "cell_type": "markdown",
   "metadata": {},
   "source": [
    "# Curso de Introducción a la programación estructurada con Python\n",
    "## Primera Parte Introducción\n",
    "\n",
    "[Datos Asignación y Funciones Notebook](./01_introduccion.ipynb \"introduccion basica\")\n",
    "\n",
    "[Estructuras de Control](./02_estructuras_de_control.ipynb \"Estructuras de control\")\n",
    "\n",
    "## Segunda Parte Diseño Estructurado\n",
    "\n",
    "[Cooperación de funciones](./03_diseño_estructurado.ipynb \"Diseño Estructurado\")\n",
    "\n",
    "## Tercera Parte Estructuras de datos\n",
    "\n",
    "[Arreglos Unidimensionales](./04_arreglos_unidimensionales.ipynb \"Arreglos Unidimensionales\")\n",
    "\n",
    "[Matrices o Arreglos bidimensionales](./05_arreglos_bidimensionales_matrices.ipynb \"Arreglos Bidimensionales o Matrices\")\n",
    "\n",
    "[Registros](./06_registros.ipynb \"Registros\")\n",
    "\n",
    "## Cuarta Parte Graficas de Funciones\n",
    "\n",
    "Libreria de Numpy\n",
    "\n",
    "Grafica de Funciones\n",
    "\n",
    "## Quinta Parte Analisis de datos con Pandas\n",
    "\n",
    "Libreria Pandas\n",
    "\n",
    "\n"
   ]
  },
  {
   "cell_type": "code",
   "execution_count": null,
   "metadata": {},
   "outputs": [],
   "source": []
  }
 ],
 "metadata": {
  "kernelspec": {
   "display_name": "Python 3",
   "language": "python",
   "name": "python3"
  },
  "language_info": {
   "codemirror_mode": {
    "name": "ipython",
    "version": 3
   },
   "file_extension": ".py",
   "mimetype": "text/x-python",
   "name": "python",
   "nbconvert_exporter": "python",
   "pygments_lexer": "ipython3",
   "version": "3.8.5"
  }
 },
 "nbformat": 4,
 "nbformat_minor": 4
}
