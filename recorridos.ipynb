{
 "cells": [
  {
   "cell_type": "code",
   "execution_count": 1,
   "metadata": {},
   "outputs": [],
   "source": [
    "def crearMatriz(nfilas,ncolumnas):\n",
    "    matriz=[]\n",
    "    i=0\n",
    "    while(i<nfilas):\n",
    "        fila=ncolumnas*[0]\n",
    "        matriz.append(fila)\n",
    "        i=i+1\n",
    "    return matriz\n",
    "\n",
    "def matrizComoCadena(matriz):\n",
    "    nfilas=len(matriz)\n",
    "    ncolumnas=len(matriz[0])\n",
    "    cadena = ''\n",
    "    i=0\n",
    "    while(i<nfilas):\n",
    "        cadena = cadena + '['\n",
    "        k=0\n",
    "        while (k<ncolumnas):\n",
    "            cadena = cadena +'{:>5s}'.format(str(matriz[i][k]))\n",
    "            k=k+1\n",
    "        cadena = cadena + ']\\n'\n",
    "        i=i+1\n",
    "    return cadena"
   ]
  },
  {
   "cell_type": "markdown",
   "metadata": {},
   "source": [
    "![diagonal abajo](./recorrido1.png)"
   ]
  },
  {
   "cell_type": "code",
   "execution_count": 2,
   "metadata": {},
   "outputs": [],
   "source": [
    "def recorrido1(n):\n",
    "    m=crearMatriz(n,n)\n",
    "    dato=1\n",
    "    i=0\n",
    "    while (i<n):\n",
    "        f=0\n",
    "        c=i\n",
    "        while (f<n) and (c<n):\n",
    "            m[f][c]=dato\n",
    "            dato=dato+1\n",
    "            f=f+1\n",
    "            c=c+1\n",
    "        i=i+1\n",
    "    return m\n",
    "\n",
    "\n"
   ]
  },
  {
   "cell_type": "code",
   "execution_count": 4,
   "metadata": {},
   "outputs": [
    {
     "name": "stdout",
     "output_type": "stream",
     "text": [
      "[    1   12   22   31   39   46   52   57   61   64   66]\n",
      "[    0    2   13   23   32   40   47   53   58   62   65]\n",
      "[    0    0    3   14   24   33   41   48   54   59   63]\n",
      "[    0    0    0    4   15   25   34   42   49   55   60]\n",
      "[    0    0    0    0    5   16   26   35   43   50   56]\n",
      "[    0    0    0    0    0    6   17   27   36   44   51]\n",
      "[    0    0    0    0    0    0    7   18   28   37   45]\n",
      "[    0    0    0    0    0    0    0    8   19   29   38]\n",
      "[    0    0    0    0    0    0    0    0    9   20   30]\n",
      "[    0    0    0    0    0    0    0    0    0   10   21]\n",
      "[    0    0    0    0    0    0    0    0    0    0   11]\n",
      "\n"
     ]
    }
   ],
   "source": [
    "x=recorrido1(11)\n",
    "print(matrizComoCadena(x))"
   ]
  },
  {
   "cell_type": "markdown",
   "metadata": {},
   "source": [
    "![diagonal abajo y arriba](./recorrido2.png)"
   ]
  },
  {
   "cell_type": "code",
   "execution_count": 6,
   "metadata": {},
   "outputs": [],
   "source": [
    "def recorrido2(n):\n",
    "    m=crearMatriz(n,n)\n",
    "    dato=1\n",
    "    i=0\n",
    "    while(i<=(n//2)):\n",
    "        f=0\n",
    "        c=2*i\n",
    "        while (f<n) and (c<n):\n",
    "            m[f][c]=dato\n",
    "            dato=dato+1\n",
    "            f=f+1\n",
    "            c=c+1\n",
    "        f=f-2\n",
    "        c=n-1\n",
    "        while (f>=0) and (c>=0):\n",
    "            m[f][c]=dato\n",
    "            dato=dato+1\n",
    "            f=f-1\n",
    "            c=c-1\n",
    "        i=i+1\n",
    "    return m"
   ]
  },
  {
   "cell_type": "code",
   "execution_count": 7,
   "metadata": {},
   "outputs": [
    {
     "name": "stdout",
     "output_type": "stream",
     "text": [
      "[    1   21   22   38   39   51   52   60   61   65   66]\n",
      "[    0    2   20   23   37   40   50   53   59   62   64]\n",
      "[    0    0    3   19   24   36   41   49   54   58   63]\n",
      "[    0    0    0    4   18   25   35   42   48   55   57]\n",
      "[    0    0    0    0    5   17   26   34   43   47   56]\n",
      "[    0    0    0    0    0    6   16   27   33   44   46]\n",
      "[    0    0    0    0    0    0    7   15   28   32   45]\n",
      "[    0    0    0    0    0    0    0    8   14   29   31]\n",
      "[    0    0    0    0    0    0    0    0    9   13   30]\n",
      "[    0    0    0    0    0    0    0    0    0   10   12]\n",
      "[    0    0    0    0    0    0    0    0    0    0   11]\n",
      "\n"
     ]
    }
   ],
   "source": [
    "x=recorrido2(11)\n",
    "print(matrizComoCadena(x))"
   ]
  },
  {
   "cell_type": "markdown",
   "metadata": {},
   "source": [
    "# Recorrido en Caracol\n",
    "\n",
    "![diagonal abajo](./recorridocaracol.png)"
   ]
  },
  {
   "cell_type": "code",
   "execution_count": 11,
   "metadata": {},
   "outputs": [],
   "source": [
    "def caracol(n):\n",
    "    m=crearMatriz(n,n)\n",
    "    dato=0\n",
    "    i=0\n",
    "    while(i<=(n//2)):\n",
    "        f=i\n",
    "        c=i\n",
    "        while c<n-i:\n",
    "            dato=dato+1\n",
    "            m[f][c]=dato\n",
    "            c=c+1\n",
    "        f=f+1;\n",
    "        c=n-i-1\n",
    "        while f<n-i:\n",
    "            dato=dato+1\n",
    "            m[f][c]=dato\n",
    "            f=f+1\n",
    "        f=f-1\n",
    "        c=c-1\n",
    "        while(c>=i):\n",
    "            dato=dato+1\n",
    "            m[f][c]=dato\n",
    "            c=c-1\n",
    "        c=c+1\n",
    "        f=f-1\n",
    "        while(f>i):\n",
    "            dato=dato+1\n",
    "            m[f][c]=dato\n",
    "            f=f-1 \n",
    "        i=i+1\n",
    "    return m"
   ]
  },
  {
   "cell_type": "code",
   "execution_count": 12,
   "metadata": {},
   "outputs": [
    {
     "name": "stdout",
     "output_type": "stream",
     "text": [
      "[    1    2    3    4    5    6    7    8    9   10]\n",
      "[   36   37   38   39   40   41   42   43   44   11]\n",
      "[   35   64   65   66   67   68   69   70   45   12]\n",
      "[   34   63   84   85   86   87   88   71   46   13]\n",
      "[   33   62   83   96   97   98   89   72   47   14]\n",
      "[   32   61   82   95  100   99   90   73   48   15]\n",
      "[   31   60   81   94   93   92   91   74   49   16]\n",
      "[   30   59   80   79   78   77   76   75   50   17]\n",
      "[   29   58   57   56   55   54   53   52   51   18]\n",
      "[   28   27   26   25   24   23   22   21   20   19]\n",
      "\n"
     ]
    }
   ],
   "source": [
    "x=caracol(10)\n",
    "print(matrizComoCadena(x))"
   ]
  }
 ],
 "metadata": {
  "kernelspec": {
   "display_name": "Python 3",
   "language": "python",
   "name": "python3"
  },
  "language_info": {
   "codemirror_mode": {
    "name": "ipython",
    "version": 3
   },
   "file_extension": ".py",
   "mimetype": "text/x-python",
   "name": "python",
   "nbconvert_exporter": "python",
   "pygments_lexer": "ipython3",
   "version": "3.8.5"
  }
 },
 "nbformat": 4,
 "nbformat_minor": 4
}
