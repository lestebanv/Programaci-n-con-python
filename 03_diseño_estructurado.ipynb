{
 "cells": [
  {
   "cell_type": "markdown",
   "metadata": {},
   "source": [
    "# Diseño Estructurado"
   ]
  },
  {
   "cell_type": "code",
   "execution_count": null,
   "metadata": {},
   "outputs": [],
   "source": []
  },
  {
   "cell_type": "code",
   "execution_count": null,
   "metadata": {},
   "outputs": [],
   "source": []
  },
  {
   "cell_type": "code",
   "execution_count": 1,
   "metadata": {},
   "outputs": [],
   "source": [
    "# Hacer las funciones necesarias para determinar si un numero es perfecto, deficiente o abundante\n",
    "# un numero es perfecto si la suma de sus divisores propios es igual al mismo numero\n",
    "# abundante si la suma de sus divisores propios es mayor que el número dado\n",
    "# decificiente si la suma de sus divisores propios e menor\n",
    "# los divisores propios de un numero son todos su divisores excepto el mismo número\n",
    "\n",
    "# la funcion sumadivisores, recibe un numero entero como parámetro y retorna la suma de sus divisores propios\n",
    "def sumadivisores(n):\n",
    "    s=0\n",
    "    k=1\n",
    "    while(k<=n//2):\n",
    "        if ((n % k)==0):\n",
    "            s=s+k\n",
    "        k=k+1\n",
    "    return (s)\n",
    "\n",
    "# la función tiponumero recibe un numero entero como parametro y retorna una palabra(cadena de caracteres) \n",
    "# determinando si es numero recibido es perfecto, deficiente o abundante\n",
    "def tiponumero(n):\n",
    "    sd=sumadivisores(n)\n",
    "    if (sd==n):\n",
    "        rta='Perfecto'\n",
    "    else:\n",
    "        if (sd<n):\n",
    "            rta='Deficiente'\n",
    "        else:\n",
    "            rta='Abundante'\n",
    "    return (rta)"
   ]
  },
  {
   "cell_type": "markdown",
   "metadata": {},
   "source": [
    "# Series de taylor"
   ]
  },
  {
   "cell_type": "code",
   "execution_count": 2,
   "metadata": {},
   "outputs": [],
   "source": [
    "def factorial(n):\n",
    "    f=1.0\n",
    "    k=1\n",
    "    while (k<=n):\n",
    "        f=f*k\n",
    "        k=k+1\n",
    "    return (f)\n",
    "\n",
    "def pote(x,y):\n",
    "    p=1.0\n",
    "    k=1\n",
    "    while(k<=y):\n",
    "        p= p*x\n",
    "        k= k+1\n",
    "    return (p)\n",
    "\n",
    "def e(x):\n",
    "    s=0.0\n",
    "    i=1\n",
    "    while(i<=20):\n",
    "        s=s +( pote(x,i)/factorial(i))\n",
    "        i=i+1\n",
    "    rta=s+1\n",
    "    return (rta)\n",
    "\n",
    "def grados2radianes(g):\n",
    "    r=(g*3.1416)/180\n",
    "    return (r)\n",
    "\n",
    "def potemenos1(n):\n",
    "    if (n%2)==0:\n",
    "        p=1\n",
    "    else:\n",
    "        p= -1\n",
    "    return (p)\n",
    "    \n",
    "def coseno(angulogrados):\n",
    "    x=grados2radianes(angulogrados)\n",
    "    s=0.0\n",
    "    k=0\n",
    "    while(k<=20):\n",
    "        s= s + ( (potemenos1(k)*pote(x,2*k))/factorial(2*k)  )\n",
    "        k=k+1\n",
    "    return (s)        \n",
    "\n",
    "\n",
    "def seno(angulogrados):  \n",
    "    x=grados2radianes(angulogrados)\n",
    "    s=0.0\n",
    "    k=0\n",
    "    while(k<=20):\n",
    "        s= s + ( (potemenos1(k)*pote(x,(2*k)+1))/factorial((2*k)+1)  )\n",
    "        k=k+1\n",
    "    return (s)\n",
    "\n",
    "def mipi():\n",
    "    s=0.0\n",
    "    k=1\n",
    "    while(k<10000):\n",
    "        s = s + (potemenos1(k+1)/((2*k)-1))\n",
    "        k=k+1\n",
    "    p= 4*s\n",
    "    return(p)\n"
   ]
  }
 ],
 "metadata": {
  "kernelspec": {
   "display_name": "Python 3",
   "language": "python",
   "name": "python3"
  },
  "language_info": {
   "codemirror_mode": {
    "name": "ipython",
    "version": 3
   },
   "file_extension": ".py",
   "mimetype": "text/x-python",
   "name": "python",
   "nbconvert_exporter": "python",
   "pygments_lexer": "ipython3",
   "version": "3.8.5"
  }
 },
 "nbformat": 4,
 "nbformat_minor": 4
}
