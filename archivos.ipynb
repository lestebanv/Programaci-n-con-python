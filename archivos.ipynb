{
 "cells": [
  {
   "cell_type": "code",
   "execution_count": null,
   "metadata": {},
   "outputs": [],
   "source": []
  },
  {
   "cell_type": "code",
   "execution_count": 14,
   "metadata": {},
   "outputs": [
    {
     "name": "stdout",
     "output_type": "stream",
     "text": [
      "[['hola', 'buenos', 'Dias'], ['hoy', 'es', 'un'], ['dia', 'muy', 'especial'], ['hola', 'buenos', 'Dias'], ['hoy', 'es', 'un'], ['dia', 'muy', 'especial']]\n"
     ]
    }
   ],
   "source": [
    "def cargarArchivo(nombrearchivo):\n",
    "    archivo = open( nombrearchivo )\n",
    "    x = []\n",
    "    # linea corresponde a cada cadena de texto en el archivo...\n",
    "    # hasta encontrar un retorno... es decir una linea del archivo de texto\n",
    "    for linea in archivo.readlines():\n",
    "        #La funcion split() convierte una cadena en un vector de cadenas\n",
    "        # utilizando como separador los espacios... \n",
    "        y = [dato.strip() for dato in linea.split(\";\")]\n",
    "        x.append( y )\n",
    "    archivo.close()\n",
    "    return x\n",
    "def escribirenArchivo(nombrearchivo,x):\n",
    "    archivo = open(nombrearchivo,'a')\n",
    "    n=len(x)\n",
    "    i=0\n",
    "    while (i<n):\n",
    "        nd=len(x[i])\n",
    "        k=0\n",
    "        while(k<nd):\n",
    "            archivo.write(x[i][k])\n",
    "            if (k<(nd-1)):\n",
    "                archivo.write(';')\n",
    "            k=k+1\n",
    "        archivo.write('\\n')\n",
    "        i=i+1\n",
    "    archivo.close()\n",
    "    return True\n",
    "x=[[\"hola\",\"buenos\",\"Dias\"],[\"hoy\",\"es\",\"un\"],[\"dia\",\"muy\",\"especial\"]]\n",
    "escribirenArchivo(\"Hola.txt\",x)\n",
    "w=cargarArchivo(\"Hola.txt\")\n",
    "print(w)"
   ]
  },
  {
   "cell_type": "code",
   "execution_count": null,
   "metadata": {},
   "outputs": [],
   "source": []
  },
  {
   "cell_type": "code",
   "execution_count": null,
   "metadata": {},
   "outputs": [],
   "source": []
  }
 ],
 "metadata": {
  "kernelspec": {
   "display_name": "Python 3",
   "language": "python",
   "name": "python3"
  },
  "language_info": {
   "codemirror_mode": {
    "name": "ipython",
    "version": 3
   },
   "file_extension": ".py",
   "mimetype": "text/x-python",
   "name": "python",
   "nbconvert_exporter": "python",
   "pygments_lexer": "ipython3",
   "version": "3.8.5"
  }
 },
 "nbformat": 4,
 "nbformat_minor": 4
}
